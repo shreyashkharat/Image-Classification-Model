{
 "cells": [
  {
   "cell_type": "code",
   "execution_count": 2,
   "id": "ecological-technology",
   "metadata": {},
   "outputs": [],
   "source": [
    "import numpy as np\n",
    "import pandas as pd\n",
    "import matplotlib as mpl\n",
    "import matplotlib.pyplot as plt\n",
    "import os"
   ]
  },
  {
   "cell_type": "code",
   "execution_count": 3,
   "id": "ethical-function",
   "metadata": {},
   "outputs": [],
   "source": [
    "import tensorflow as tf\n",
    "from tensorflow import keras"
   ]
  },
  {
   "cell_type": "markdown",
   "id": "durable-fisher",
   "metadata": {},
   "source": [
    "## Data Preprocessing"
   ]
  },
  {
   "cell_type": "markdown",
   "id": "leading-fashion",
   "metadata": {},
   "source": [
    "* The dataset we are going use contains 4000 images of cats and dogs, we will use 2000 images for training the model, 1000 images for validating the model, 1000 images for testing the model."
   ]
  },
  {
   "cell_type": "code",
   "execution_count": 4,
   "id": "ranking-warrior",
   "metadata": {},
   "outputs": [],
   "source": [
    "train_dir = '/media/shreyashkharat/Storage Drive/Machine Learning, Deep Learning/Python/Projects/Image Classification Model/Color Data/data/train'\n",
    "validation_dir = '/media/shreyashkharat/Storage Drive/Machine Learning, Deep Learning/Python/Projects/Image Classification Model/Color Data/data/validation'\n",
    "test_dir = '/media/shreyashkharat/Storage Drive/Machine Learning, Deep Learning/Python/Projects/Image Classification Model/Color Data/data/test'"
   ]
  },
  {
   "cell_type": "markdown",
   "id": "sonic-lafayette",
   "metadata": {},
   "source": [
    "Process for getting data from images:\n",
    "* Read the picture files.\n",
    "* Decode the JPEG into RGB grods of pixels.\n",
    "* Convert these into floating point tensors.\n",
    "* Rescale the pixel values into [0,1] intervals."
   ]
  },
  {
   "cell_type": "code",
   "execution_count": 5,
   "id": "assisted-lesbian",
   "metadata": {},
   "outputs": [],
   "source": [
    "from tensorflow.keras.preprocessing.image import ImageDataGenerator as idg"
   ]
  },
  {
   "cell_type": "code",
   "execution_count": 6,
   "id": "passive-african",
   "metadata": {},
   "outputs": [
    {
     "name": "stdout",
     "output_type": "stream",
     "text": [
      "Found 2000 images belonging to 2 classes.\n",
      "Found 1000 images belonging to 2 classes.\n"
     ]
    }
   ],
   "source": [
    "train_data_idg = idg(rescale = 1./255)\n",
    "test_data_idg = idg(rescale = 1./255)\n",
    "train_generator = train_data_idg.flow_from_directory(train_dir, target_size = (150, 150), batch_size = 20, class_mode = 'binary')\n",
    "validation_generator = test_data_idg.flow_from_directory(validation_dir, target_size = (150, 150), batch_size = 20, class_mode = 'binary')\n",
    "# target_size is the resized size we want."
   ]
  },
  {
   "cell_type": "code",
   "execution_count": 7,
   "id": "liked-organ",
   "metadata": {},
   "outputs": [],
   "source": [
    "from tensorflow.keras import layers\n",
    "from tensorflow.keras import models"
   ]
  },
  {
   "cell_type": "code",
   "execution_count": 8,
   "id": "convinced-billion",
   "metadata": {},
   "outputs": [],
   "source": [
    "model_cnn = models.Sequential([\n",
    "    layers.Conv2D(32, (3,3), activation = 'relu', input_shape = (150, 150, 3)),\n",
    "    layers.MaxPooling2D((2, 2)),\n",
    "    layers.Conv2D(64, (3,3), activation = 'relu'),\n",
    "    layers.MaxPooling2D((2, 2)),\n",
    "    layers.Conv2D(128, (3,3), activation = 'relu'),\n",
    "    layers.MaxPooling2D((2, 2)),\n",
    "    layers.Conv2D(128, (3,3), activation = 'relu'),\n",
    "    layers.MaxPooling2D((2, 2)),\n",
    "    layers.Flatten(),\n",
    "    layers.Dense(512, activation = 'relu'),\n",
    "    layers.Dense(1, activation = 'sigmoid')\n",
    "])"
   ]
  },
  {
   "cell_type": "code",
   "execution_count": 9,
   "id": "crude-aside",
   "metadata": {},
   "outputs": [
    {
     "name": "stdout",
     "output_type": "stream",
     "text": [
      "Model: \"sequential\"\n",
      "_________________________________________________________________\n",
      "Layer (type)                 Output Shape              Param #   \n",
      "=================================================================\n",
      "conv2d (Conv2D)              (None, 148, 148, 32)      896       \n",
      "_________________________________________________________________\n",
      "max_pooling2d (MaxPooling2D) (None, 74, 74, 32)        0         \n",
      "_________________________________________________________________\n",
      "conv2d_1 (Conv2D)            (None, 72, 72, 64)        18496     \n",
      "_________________________________________________________________\n",
      "max_pooling2d_1 (MaxPooling2 (None, 36, 36, 64)        0         \n",
      "_________________________________________________________________\n",
      "conv2d_2 (Conv2D)            (None, 34, 34, 128)       73856     \n",
      "_________________________________________________________________\n",
      "max_pooling2d_2 (MaxPooling2 (None, 17, 17, 128)       0         \n",
      "_________________________________________________________________\n",
      "conv2d_3 (Conv2D)            (None, 15, 15, 128)       147584    \n",
      "_________________________________________________________________\n",
      "max_pooling2d_3 (MaxPooling2 (None, 7, 7, 128)         0         \n",
      "_________________________________________________________________\n",
      "flatten (Flatten)            (None, 6272)              0         \n",
      "_________________________________________________________________\n",
      "dense (Dense)                (None, 512)               3211776   \n",
      "_________________________________________________________________\n",
      "dense_1 (Dense)              (None, 1)                 513       \n",
      "=================================================================\n",
      "Total params: 3,453,121\n",
      "Trainable params: 3,453,121\n",
      "Non-trainable params: 0\n",
      "_________________________________________________________________\n"
     ]
    }
   ],
   "source": [
    "model_cnn.summary()"
   ]
  },
  {
   "cell_type": "code",
   "execution_count": 10,
   "id": "organizational-mailman",
   "metadata": {},
   "outputs": [],
   "source": [
    "from tensorflow.keras import optimizers\n",
    "model_cnn.compile(loss = 'binary_crossentropy', optimizer = optimizers.RMSprop(learning_rate = 0.00001), metrics = ['acc'])"
   ]
  },
  {
   "cell_type": "code",
   "execution_count": 11,
   "id": "formal-maximum",
   "metadata": {},
   "outputs": [
    {
     "name": "stderr",
     "output_type": "stream",
     "text": [
      "/home/shreyashkharat/.local/lib/python3.9/site-packages/keras/engine/training.py:1972: UserWarning: `Model.fit_generator` is deprecated and will be removed in a future version. Please use `Model.fit`, which supports generators.\n",
      "  warnings.warn('`Model.fit_generator` is deprecated and '\n"
     ]
    },
    {
     "name": "stdout",
     "output_type": "stream",
     "text": [
      "Epoch 1/30\n",
      "100/100 [==============================] - 41s 410ms/step - loss: 0.6911 - acc: 0.5270 - val_loss: 0.6922 - val_acc: 0.5000\n",
      "Epoch 2/30\n",
      "100/100 [==============================] - 51s 514ms/step - loss: 0.6870 - acc: 0.5515 - val_loss: 0.6928 - val_acc: 0.5000\n",
      "Epoch 3/30\n",
      "100/100 [==============================] - 53s 534ms/step - loss: 0.6841 - acc: 0.5510 - val_loss: 0.6878 - val_acc: 0.5200\n",
      "Epoch 4/30\n",
      "100/100 [==============================] - 49s 491ms/step - loss: 0.6799 - acc: 0.6050 - val_loss: 0.6797 - val_acc: 0.5870\n",
      "Epoch 5/30\n",
      "100/100 [==============================] - 49s 488ms/step - loss: 0.6743 - acc: 0.6040 - val_loss: 0.6756 - val_acc: 0.6070\n",
      "Epoch 6/30\n",
      "100/100 [==============================] - 50s 501ms/step - loss: 0.6682 - acc: 0.6080 - val_loss: 0.6716 - val_acc: 0.6100\n",
      "Epoch 7/30\n",
      "100/100 [==============================] - 50s 499ms/step - loss: 0.6619 - acc: 0.6355 - val_loss: 0.6802 - val_acc: 0.5570\n",
      "Epoch 8/30\n",
      "100/100 [==============================] - 48s 484ms/step - loss: 0.6559 - acc: 0.6355 - val_loss: 0.6657 - val_acc: 0.5810\n",
      "Epoch 9/30\n",
      "100/100 [==============================] - 49s 486ms/step - loss: 0.6502 - acc: 0.6435 - val_loss: 0.6890 - val_acc: 0.5490\n",
      "Epoch 10/30\n",
      "100/100 [==============================] - 49s 486ms/step - loss: 0.6468 - acc: 0.6480 - val_loss: 0.6535 - val_acc: 0.6220\n",
      "Epoch 11/30\n",
      "100/100 [==============================] - 48s 485ms/step - loss: 0.6410 - acc: 0.6540 - val_loss: 0.6497 - val_acc: 0.6310\n",
      "Epoch 12/30\n",
      "100/100 [==============================] - 49s 486ms/step - loss: 0.6362 - acc: 0.6530 - val_loss: 0.6470 - val_acc: 0.6310\n",
      "Epoch 13/30\n",
      "100/100 [==============================] - 49s 486ms/step - loss: 0.6298 - acc: 0.6490 - val_loss: 0.6430 - val_acc: 0.6380\n",
      "Epoch 14/30\n",
      "100/100 [==============================] - 49s 489ms/step - loss: 0.6260 - acc: 0.6645 - val_loss: 0.6407 - val_acc: 0.6370\n",
      "Epoch 15/30\n",
      "100/100 [==============================] - 48s 485ms/step - loss: 0.6212 - acc: 0.6830 - val_loss: 0.6457 - val_acc: 0.6300\n",
      "Epoch 16/30\n",
      "100/100 [==============================] - 48s 479ms/step - loss: 0.6169 - acc: 0.6675 - val_loss: 0.6372 - val_acc: 0.6370\n",
      "Epoch 17/30\n",
      "100/100 [==============================] - 48s 485ms/step - loss: 0.6128 - acc: 0.6715 - val_loss: 0.6329 - val_acc: 0.6380\n",
      "Epoch 18/30\n",
      "100/100 [==============================] - 49s 486ms/step - loss: 0.6073 - acc: 0.6875 - val_loss: 0.6325 - val_acc: 0.6360\n",
      "Epoch 19/30\n",
      "100/100 [==============================] - 48s 482ms/step - loss: 0.6036 - acc: 0.6855 - val_loss: 0.6257 - val_acc: 0.6500\n",
      "Epoch 20/30\n",
      "100/100 [==============================] - 48s 483ms/step - loss: 0.5969 - acc: 0.6870 - val_loss: 0.6232 - val_acc: 0.6480\n",
      "Epoch 21/30\n",
      "100/100 [==============================] - 48s 483ms/step - loss: 0.5938 - acc: 0.6860 - val_loss: 0.6209 - val_acc: 0.6490\n",
      "Epoch 22/30\n",
      "100/100 [==============================] - 48s 481ms/step - loss: 0.5897 - acc: 0.7010 - val_loss: 0.6184 - val_acc: 0.6540\n",
      "Epoch 23/30\n",
      "100/100 [==============================] - 49s 494ms/step - loss: 0.5865 - acc: 0.6805 - val_loss: 0.6167 - val_acc: 0.6530\n",
      "Epoch 24/30\n",
      "100/100 [==============================] - 61s 616ms/step - loss: 0.5804 - acc: 0.7050 - val_loss: 0.6152 - val_acc: 0.6620\n",
      "Epoch 25/30\n",
      "100/100 [==============================] - 55s 551ms/step - loss: 0.5762 - acc: 0.7115 - val_loss: 0.6486 - val_acc: 0.6170\n",
      "Epoch 26/30\n",
      "100/100 [==============================] - 54s 537ms/step - loss: 0.5722 - acc: 0.7185 - val_loss: 0.6443 - val_acc: 0.6120\n",
      "Epoch 27/30\n",
      "100/100 [==============================] - 53s 533ms/step - loss: 0.5695 - acc: 0.7115 - val_loss: 0.6071 - val_acc: 0.6600\n",
      "Epoch 28/30\n",
      "100/100 [==============================] - 53s 526ms/step - loss: 0.5632 - acc: 0.7165 - val_loss: 0.6050 - val_acc: 0.6660\n",
      "Epoch 29/30\n",
      "100/100 [==============================] - 54s 536ms/step - loss: 0.5611 - acc: 0.7225 - val_loss: 0.6060 - val_acc: 0.6820\n",
      "Epoch 30/30\n",
      "100/100 [==============================] - 55s 552ms/step - loss: 0.5555 - acc: 0.7220 - val_loss: 0.6010 - val_acc: 0.6670\n"
     ]
    }
   ],
   "source": [
    "history = model_cnn.fit_generator(train_generator, steps_per_epoch = 100, epochs = 30, validation_data = validation_generator, validation_steps = 50)"
   ]
  },
  {
   "cell_type": "markdown",
   "id": "genuine-train",
   "metadata": {},
   "source": [
    "## Performance Evaluation"
   ]
  },
  {
   "cell_type": "code",
   "execution_count": 12,
   "id": "joint-print",
   "metadata": {},
   "outputs": [
    {
     "data": {
      "image/png": "[encoded data removed]",
      "text/plain": [
       "<Figure size 576x360 with 1 Axes>"
      ]
     },
     "metadata": {
      "needs_background": "light"
     },
     "output_type": "display_data"
    }
   ],
   "source": [
    "pd.DataFrame(history.history).plot(figsize = (8, 5))\n",
    "plt.grid(True)\n",
    "plt.gca().set_ylim(0,1)\n",
    "plt.show()"
   ]
  },
  {
   "cell_type": "markdown",
   "id": "protective-emerald",
   "metadata": {},
   "source": [
    "* The accuracy is upto 0.72"
   ]
  },
  {
   "cell_type": "markdown",
   "id": "sitting-update",
   "metadata": {},
   "source": [
    "* The model has quite a lot computational time, so we will save the model."
   ]
  },
  {
   "cell_type": "code",
   "execution_count": 19,
   "id": "pleased-scanning",
   "metadata": {},
   "outputs": [],
   "source": [
    "model_cnn.save('Image_classifier_cnn.h5')"
   ]
  },
  {
   "cell_type": "code",
   "execution_count": null,
   "id": "apparent-insertion",
   "metadata": {},
   "outputs": [],
   "source": []
  }
 ],
 "metadata": {
  "kernelspec": {
   "display_name": "Python 3",
   "language": "python",
   "name": "python3"
  },
  "language_info": {
   "codemirror_mode": {
    "name": "ipython",
    "version": 3
   },
   "file_extension": ".py",
   "mimetype": "text/x-python",
   "name": "python",
   "nbconvert_exporter": "python",
   "pygments_lexer": "ipython3",
   "version": "3.9.5"
  }
 },
 "nbformat": 4,
 "nbformat_minor": 5
}
