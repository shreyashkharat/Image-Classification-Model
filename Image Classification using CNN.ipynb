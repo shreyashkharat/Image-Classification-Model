{
 "cells": [
  {
   "cell_type": "code",
   "execution_count": 1,
   "id": "ecological-technology",
   "metadata": {},
   "outputs": [],
   "source": [
    "import numpy as np\n",
    "import pandas as pd\n",
    "import matplotlib as mpl\n",
    "import matplotlib.pyplot as plt\n",
    "import os"
   ]
  },
  {
   "cell_type": "code",
   "execution_count": 2,
   "id": "ethical-function",
   "metadata": {},
   "outputs": [],
   "source": [
    "import tensorflow as tf\n",
    "from tensorflow import keras"
   ]
  },
  {
   "cell_type": "markdown",
   "id": "durable-fisher",
   "metadata": {},
   "source": [
    "## Data Preprocessing"
   ]
  },
  {
   "cell_type": "markdown",
   "id": "leading-fashion",
   "metadata": {},
   "source": [
    "* The dataset we are going use contains 4000 images of cats and dogs, we will use 2000 images for training the model, 1000 images for validating the model, 1000 images for testing the model."
   ]
  },
  {
   "cell_type": "code",
   "execution_count": 4,
   "id": "ranking-warrior",
   "metadata": {},
   "outputs": [],
   "source": [
    "train_dir = '/media/shreyashkharat/Storage Drive/Machine Learning, Deep Learning/Python/Projects/Image Classification Model/Color Data/data/train'\n",
    "validation_dir = '/media/shreyashkharat/Storage Drive/Machine Learning, Deep Learning/Python/Projects/Image Classification Model/Color Data/data/validation'\n",
    "test_dir = '/media/shreyashkharat/Storage Drive/Machine Learning, Deep Learning/Python/Projects/Image Classification Model/Color Data/data/test'"
   ]
  },
  {
   "cell_type": "markdown",
   "id": "sonic-lafayette",
   "metadata": {},
   "source": [
    "Process for getting data from images:\n",
    "* Read the picture files.\n",
    "* Decode the JPEG into RGB grods of pixels.\n",
    "* Convert these into floating point tensors.\n",
    "* Rescale the pixel values into [0,1] intervals."
   ]
  },
  {
   "cell_type": "code",
   "execution_count": 6,
   "id": "assisted-lesbian",
   "metadata": {},
   "outputs": [],
   "source": [
    "from tensorflow.keras.preprocessing.image import ImageDataGenerator as idg"
   ]
  },
  {
   "cell_type": "code",
   "execution_count": 8,
   "id": "passive-african",
   "metadata": {},
   "outputs": [
    {
     "name": "stdout",
     "output_type": "stream",
     "text": [
      "Found 2000 images belonging to 2 classes.\n",
      "Found 1000 images belonging to 2 classes.\n"
     ]
    }
   ],
   "source": [
    "train_data_idg = idg(rescale = 1./255)\n",
    "test_data_idg = idg(rescale = 1./255)\n",
    "train_generator = train_data_idg.flow_from_directory(train_dir, target_size = (150, 150), batch_size = 20, class_mode = 'binary')\n",
    "validation_generator = test_data_idg.flow_from_directory(validation_dir, target_size = (150, 150), batch_size = 20, class_mode = 'binary')\n",
    "# target_size is the resized size we want."
   ]
  },
  {
   "cell_type": "code",
   "execution_count": 9,
   "id": "liked-organ",
   "metadata": {},
   "outputs": [],
   "source": [
    "from tensorflow.keras import layers\n",
    "from tensorflow.keras import models"
   ]
  },
  {
   "cell_type": "code",
   "execution_count": 11,
   "id": "convinced-billion",
   "metadata": {},
   "outputs": [],
   "source": [
    "model_cnn = models.Sequential([\n",
    "    layers.Conv2D(32, (3,3), activation = 'relu', input_shape = (150, 150, 3)),\n",
    "    layers.MaxPooling2D((2, 2)),\n",
    "    layers.Conv2D(64, (3,3), activation = 'relu'),\n",
    "    layers.MaxPooling2D((2, 2)),\n",
    "    layers.Conv2D(128, (3,3), activation = 'relu'),\n",
    "    layers.MaxPooling2D((2, 2)),\n",
    "    layers.Conv2D(128, (3,3), activation = 'relu'),\n",
    "    layers.MaxPooling2D((2, 2)),\n",
    "    layers.Flatten(),\n",
    "    layers.Dense(512, activation = 'relu'),\n",
    "    layers.Dense(1, activation = 'sigmoid')\n",
    "])"
   ]
  },
  {
   "cell_type": "code",
   "execution_count": 13,
   "id": "crude-aside",
   "metadata": {},
   "outputs": [
    {
     "name": "stdout",
     "output_type": "stream",
     "text": [
      "Model: \"sequential\"\n",
      "_________________________________________________________________\n",
      "Layer (type)                 Output Shape              Param #   \n",
      "=================================================================\n",
      "conv2d (Conv2D)              (None, 148, 148, 32)      896       \n",
      "_________________________________________________________________\n",
      "max_pooling2d (MaxPooling2D) (None, 74, 74, 32)        0         \n",
      "_________________________________________________________________\n",
      "conv2d_1 (Conv2D)            (None, 72, 72, 64)        18496     \n",
      "_________________________________________________________________\n",
      "max_pooling2d_1 (MaxPooling2 (None, 36, 36, 64)        0         \n",
      "_________________________________________________________________\n",
      "conv2d_2 (Conv2D)            (None, 34, 34, 128)       73856     \n",
      "_________________________________________________________________\n",
      "max_pooling2d_2 (MaxPooling2 (None, 17, 17, 128)       0         \n",
      "_________________________________________________________________\n",
      "conv2d_3 (Conv2D)            (None, 15, 15, 128)       147584    \n",
      "_________________________________________________________________\n",
      "max_pooling2d_3 (MaxPooling2 (None, 7, 7, 128)         0         \n",
      "_________________________________________________________________\n",
      "flatten (Flatten)            (None, 6272)              0         \n",
      "_________________________________________________________________\n",
      "dense (Dense)                (None, 512)               3211776   \n",
      "_________________________________________________________________\n",
      "dense_1 (Dense)              (None, 1)                 513       \n",
      "=================================================================\n",
      "Total params: 3,453,121\n",
      "Trainable params: 3,453,121\n",
      "Non-trainable params: 0\n",
      "_________________________________________________________________\n"
     ]
    }
   ],
   "source": [
    "model_cnn.summary()"
   ]
  },
  {
   "cell_type": "code",
   "execution_count": 14,
   "id": "organizational-mailman",
   "metadata": {},
   "outputs": [],
   "source": [
    "from tensorflow.keras import optimizers\n",
    "model_cnn.compile(loss = 'binary_crossentropy', optimizer = optimizers.RMSprop(learning_rate = 0.00001), metrics = ['acc'])"
   ]
  },
  {
   "cell_type": "code",
   "execution_count": 17,
   "id": "formal-maximum",
   "metadata": {},
   "outputs": [
    {
     "name": "stdout",
     "output_type": "stream",
     "text": [
      "Epoch 1/30\n",
      "100/100 [==============================] - 48s 483ms/step - loss: 0.6878 - acc: 0.5280 - val_loss: 0.6866 - val_acc: 0.5380\n",
      "Epoch 2/30\n",
      "100/100 [==============================] - 48s 482ms/step - loss: 0.6833 - acc: 0.5735 - val_loss: 0.6826 - val_acc: 0.5840\n",
      "Epoch 3/30\n",
      "100/100 [==============================] - 48s 483ms/step - loss: 0.6784 - acc: 0.5950 - val_loss: 0.6788 - val_acc: 0.5620\n",
      "Epoch 4/30\n",
      "100/100 [==============================] - 51s 511ms/step - loss: 0.6744 - acc: 0.6175 - val_loss: 0.6736 - val_acc: 0.6040\n",
      "Epoch 5/30\n",
      "100/100 [==============================] - 48s 482ms/step - loss: 0.6684 - acc: 0.6215 - val_loss: 0.6727 - val_acc: 0.5850\n",
      "Epoch 6/30\n",
      "100/100 [==============================] - 48s 483ms/step - loss: 0.6630 - acc: 0.6160 - val_loss: 0.6744 - val_acc: 0.5690\n",
      "Epoch 7/30\n",
      "100/100 [==============================] - 49s 492ms/step - loss: 0.6565 - acc: 0.6225 - val_loss: 0.6723 - val_acc: 0.5550\n",
      "Epoch 8/30\n",
      "100/100 [==============================] - 49s 493ms/step - loss: 0.6528 - acc: 0.6255 - val_loss: 0.6671 - val_acc: 0.5760\n",
      "Epoch 9/30\n",
      "100/100 [==============================] - 48s 485ms/step - loss: 0.6479 - acc: 0.6375 - val_loss: 0.6537 - val_acc: 0.6060\n",
      "Epoch 10/30\n",
      "100/100 [==============================] - 49s 485ms/step - loss: 0.6430 - acc: 0.6395 - val_loss: 0.6520 - val_acc: 0.5970\n",
      "Epoch 11/30\n",
      "100/100 [==============================] - 49s 485ms/step - loss: 0.6396 - acc: 0.6340 - val_loss: 0.6465 - val_acc: 0.6250\n",
      "Epoch 12/30\n",
      "100/100 [==============================] - 48s 484ms/step - loss: 0.6372 - acc: 0.6460 - val_loss: 0.6463 - val_acc: 0.6140\n",
      "Epoch 13/30\n",
      "100/100 [==============================] - 49s 485ms/step - loss: 0.6324 - acc: 0.6430 - val_loss: 0.6473 - val_acc: 0.6090\n",
      "Epoch 14/30\n",
      "100/100 [==============================] - 49s 486ms/step - loss: 0.6272 - acc: 0.6495 - val_loss: 0.6428 - val_acc: 0.6120\n",
      "Epoch 15/30\n",
      "100/100 [==============================] - 49s 491ms/step - loss: 0.6229 - acc: 0.6610 - val_loss: 0.6365 - val_acc: 0.6310\n",
      "Epoch 16/30\n",
      "100/100 [==============================] - 49s 485ms/step - loss: 0.6192 - acc: 0.6680 - val_loss: 0.6331 - val_acc: 0.6480\n",
      "Epoch 17/30\n",
      "100/100 [==============================] - 49s 485ms/step - loss: 0.6140 - acc: 0.6680 - val_loss: 0.6383 - val_acc: 0.6310\n",
      "Epoch 18/30\n",
      "100/100 [==============================] - 49s 486ms/step - loss: 0.6112 - acc: 0.6740 - val_loss: 0.6286 - val_acc: 0.6370\n",
      "Epoch 19/30\n",
      "100/100 [==============================] - 49s 487ms/step - loss: 0.6043 - acc: 0.6755 - val_loss: 0.6348 - val_acc: 0.6240\n",
      "Epoch 20/30\n",
      "100/100 [==============================] - 49s 487ms/step - loss: 0.6033 - acc: 0.6740 - val_loss: 0.6496 - val_acc: 0.6050\n",
      "Epoch 21/30\n",
      "100/100 [==============================] - 49s 490ms/step - loss: 0.6008 - acc: 0.6855 - val_loss: 0.6248 - val_acc: 0.6380\n",
      "Epoch 22/30\n",
      "100/100 [==============================] - 49s 488ms/step - loss: 0.5955 - acc: 0.6890 - val_loss: 0.6197 - val_acc: 0.6400\n",
      "Epoch 23/30\n",
      "100/100 [==============================] - 49s 488ms/step - loss: 0.5912 - acc: 0.6830 - val_loss: 0.6177 - val_acc: 0.6440\n",
      "Epoch 24/30\n",
      "100/100 [==============================] - 49s 488ms/step - loss: 0.5885 - acc: 0.6970 - val_loss: 0.6160 - val_acc: 0.6410\n",
      "Epoch 25/30\n",
      "100/100 [==============================] - 49s 487ms/step - loss: 0.5816 - acc: 0.6940 - val_loss: 0.6314 - val_acc: 0.6360\n",
      "Epoch 26/30\n",
      "100/100 [==============================] - 49s 489ms/step - loss: 0.5796 - acc: 0.7060 - val_loss: 0.6118 - val_acc: 0.6430\n",
      "Epoch 27/30\n",
      "100/100 [==============================] - 49s 487ms/step - loss: 0.5758 - acc: 0.6990 - val_loss: 0.6126 - val_acc: 0.6530\n",
      "Epoch 28/30\n",
      "100/100 [==============================] - 49s 487ms/step - loss: 0.5707 - acc: 0.7025 - val_loss: 0.6133 - val_acc: 0.6560\n",
      "Epoch 29/30\n",
      "100/100 [==============================] - 49s 488ms/step - loss: 0.5683 - acc: 0.7085 - val_loss: 0.6097 - val_acc: 0.6510\n",
      "Epoch 30/30\n",
      "100/100 [==============================] - 49s 489ms/step - loss: 0.5659 - acc: 0.7140 - val_loss: 0.6170 - val_acc: 0.6490\n"
     ]
    }
   ],
   "source": [
    "history = model_cnn.fit_generator(train_generator, steps_per_epoch = 100, epochs = 30, validation_data = validation_generator, validation_steps = 50)"
   ]
  },
  {
   "cell_type": "code",
   "execution_count": 18,
   "id": "joint-print",
   "metadata": {},
   "outputs": [
    {
     "data": {
      "image/png": "[encoded data removed]",
      "text/plain": [
       "<Figure size 576x360 with 1 Axes>"
      ]
     },
     "metadata": {
      "needs_background": "light"
     },
     "output_type": "display_data"
    }
   ],
   "source": [
    "pd.DataFrame(history.history).plot(figsize = (8, 5))\n",
    "plt.grid(True)\n",
    "plt.gca().set_ylim(0,1)\n",
    "plt.show()"
   ]
  },
  {
   "cell_type": "markdown",
   "id": "plastic-lodge",
   "metadata": {},
   "source": [
    "As the computation time for this model was pretty high(25-26 mins), we will save this model."
   ]
  },
  {
   "cell_type": "code",
   "execution_count": 20,
   "id": "graduate-database",
   "metadata": {},
   "outputs": [],
   "source": [
    "model_cnn.save('image_classifier_cnn.h5')"
   ]
  },
  {
   "cell_type": "code",
   "execution_count": null,
   "id": "latest-chicago",
   "metadata": {},
   "outputs": [],
   "source": []
  }
 ],
 "metadata": {
  "kernelspec": {
   "display_name": "Python 3",
   "language": "python",
   "name": "python3"
  },
  "language_info": {
   "codemirror_mode": {
    "name": "ipython",
    "version": 3
   },
   "file_extension": ".py",
   "mimetype": "text/x-python",
   "name": "python",
   "nbconvert_exporter": "python",
   "pygments_lexer": "ipython3",
   "version": "3.9.5"
  }
 },
 "nbformat": 4,
 "nbformat_minor": 5
}
