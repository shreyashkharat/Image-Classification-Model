{
 "cells": [
  {
   "cell_type": "code",
   "execution_count": 1,
   "id": "ecological-technology",
   "metadata": {},
   "outputs": [],
   "source": [
    "import numpy as np\n",
    "import pandas as pd\n",
    "import matplotlib as mpl\n",
    "import matplotlib.pyplot as plt\n",
    "import os"
   ]
  },
  {
   "cell_type": "code",
   "execution_count": 2,
   "id": "ethical-function",
   "metadata": {},
   "outputs": [],
   "source": [
    "import tensorflow as tf\n",
    "from tensorflow import keras"
   ]
  },
  {
   "cell_type": "markdown",
   "id": "durable-fisher",
   "metadata": {},
   "source": [
    "## Data Preprocessing"
   ]
  },
  {
   "cell_type": "code",
   "execution_count": 3,
   "id": "ranking-warrior",
   "metadata": {},
   "outputs": [],
   "source": [
    "train_dir = '/media/shreyashkharat/Storage Drive/Machine Learning, Deep Learning/Python/Projects/Image Classification Model/Color Data/data/training_set'\n",
    "validation_dir = '/media/shreyashkharat/Storage Drive/Machine Learning, Deep Learning/Python/Projects/Image Classification Model/Color Data/data/validation_set'\n",
    "test_dir = '/media/shreyashkharat/Storage Drive/Machine Learning, Deep Learning/Python/Projects/Image Classification Model/Color Data/data/test_set'"
   ]
  },
  {
   "cell_type": "markdown",
   "id": "sonic-lafayette",
   "metadata": {},
   "source": [
    "Process for getting data from images:\n",
    "* Read the picture files.\n",
    "* Decode the JPEG into RGB grods of pixels.\n",
    "* Convert these into floating point tensors.\n",
    "* Rescale the pixel values into [0,1] intervals."
   ]
  },
  {
   "cell_type": "code",
   "execution_count": 4,
   "id": "assisted-lesbian",
   "metadata": {},
   "outputs": [],
   "source": [
    "from tensorflow.keras.preprocessing.image import ImageDataGenerator as idg"
   ]
  },
  {
   "cell_type": "code",
   "execution_count": 5,
   "id": "passive-african",
   "metadata": {},
   "outputs": [
    {
     "name": "stdout",
     "output_type": "stream",
     "text": [
      "Found 6000 images belonging to 2 classes.\n",
      "Found 2000 images belonging to 2 classes.\n"
     ]
    }
   ],
   "source": [
    "train_data_idg = idg(rescale = 1./255)\n",
    "test_data_idg = idg(rescale = 1./255)\n",
    "train_generator = train_data_idg.flow_from_directory(train_dir, target_size = (150, 150), batch_size = 20, class_mode = 'binary')\n",
    "validation_generator = test_data_idg.flow_from_directory(validation_dir, target_size = (150, 150), batch_size = 20, class_mode = 'binary')\n",
    "# target_size is the resized size we want."
   ]
  },
  {
   "cell_type": "code",
   "execution_count": 6,
   "id": "liked-organ",
   "metadata": {},
   "outputs": [],
   "source": [
    "from tensorflow.keras import layers\n",
    "from tensorflow.keras import models"
   ]
  },
  {
   "cell_type": "code",
   "execution_count": 7,
   "id": "convinced-billion",
   "metadata": {},
   "outputs": [],
   "source": [
    "model_cnn = models.Sequential([\n",
    "    layers.Conv2D(32, (3,3), activation = 'relu', input_shape = (150, 150, 3)),\n",
    "    layers.MaxPooling2D((2, 2)),\n",
    "    layers.Conv2D(64, (3,3), activation = 'relu'),\n",
    "    layers.MaxPooling2D((2, 2)),\n",
    "    layers.Conv2D(128, (3,3), activation = 'relu'),\n",
    "    layers.MaxPooling2D((2, 2)),\n",
    "    layers.Conv2D(128, (3,3), activation = 'relu'),\n",
    "    layers.MaxPooling2D((2, 2)),\n",
    "    layers.Flatten(),\n",
    "    layers.Dense(512, activation = 'relu'),\n",
    "    layers.Dense(1, activation = 'sigmoid')\n",
    "])"
   ]
  },
  {
   "cell_type": "code",
   "execution_count": 8,
   "id": "crude-aside",
   "metadata": {},
   "outputs": [
    {
     "name": "stdout",
     "output_type": "stream",
     "text": [
      "Model: \"sequential\"\n",
      "_________________________________________________________________\n",
      "Layer (type)                 Output Shape              Param #   \n",
      "=================================================================\n",
      "conv2d (Conv2D)              (None, 148, 148, 32)      896       \n",
      "_________________________________________________________________\n",
      "max_pooling2d (MaxPooling2D) (None, 74, 74, 32)        0         \n",
      "_________________________________________________________________\n",
      "conv2d_1 (Conv2D)            (None, 72, 72, 64)        18496     \n",
      "_________________________________________________________________\n",
      "max_pooling2d_1 (MaxPooling2 (None, 36, 36, 64)        0         \n",
      "_________________________________________________________________\n",
      "conv2d_2 (Conv2D)            (None, 34, 34, 128)       73856     \n",
      "_________________________________________________________________\n",
      "max_pooling2d_2 (MaxPooling2 (None, 17, 17, 128)       0         \n",
      "_________________________________________________________________\n",
      "conv2d_3 (Conv2D)            (None, 15, 15, 128)       147584    \n",
      "_________________________________________________________________\n",
      "max_pooling2d_3 (MaxPooling2 (None, 7, 7, 128)         0         \n",
      "_________________________________________________________________\n",
      "flatten (Flatten)            (None, 6272)              0         \n",
      "_________________________________________________________________\n",
      "dense (Dense)                (None, 512)               3211776   \n",
      "_________________________________________________________________\n",
      "dense_1 (Dense)              (None, 1)                 513       \n",
      "=================================================================\n",
      "Total params: 3,453,121\n",
      "Trainable params: 3,453,121\n",
      "Non-trainable params: 0\n",
      "_________________________________________________________________\n"
     ]
    }
   ],
   "source": [
    "model_cnn.summary()"
   ]
  },
  {
   "cell_type": "code",
   "execution_count": 9,
   "id": "organizational-mailman",
   "metadata": {},
   "outputs": [],
   "source": [
    "from tensorflow.keras import optimizers\n",
    "model_cnn.compile(loss = 'binary_crossentropy', optimizer = optimizers.RMSprop(learning_rate = 0.00001), metrics = ['acc'])"
   ]
  },
  {
   "cell_type": "code",
   "execution_count": 10,
   "id": "formal-maximum",
   "metadata": {},
   "outputs": [
    {
     "name": "stderr",
     "output_type": "stream",
     "text": [
      "/home/shreyashkharat/.local/lib/python3.9/site-packages/keras/engine/training.py:1972: UserWarning: `Model.fit_generator` is deprecated and will be removed in a future version. Please use `Model.fit`, which supports generators.\n",
      "  warnings.warn('`Model.fit_generator` is deprecated and '\n"
     ]
    },
    {
     "name": "stdout",
     "output_type": "stream",
     "text": [
      "Epoch 1/50\n",
      "100/100 [==============================] - 87s 851ms/step - loss: 0.6920 - acc: 0.5210 - val_loss: 0.6895 - val_acc: 0.5890\n",
      "Epoch 2/50\n",
      "100/100 [==============================] - 52s 521ms/step - loss: 0.6875 - acc: 0.5615 - val_loss: 0.6856 - val_acc: 0.5910\n",
      "Epoch 3/50\n",
      "100/100 [==============================] - 48s 477ms/step - loss: 0.6832 - acc: 0.5780 - val_loss: 0.6822 - val_acc: 0.5170\n",
      "Epoch 4/50\n",
      "100/100 [==============================] - 43s 432ms/step - loss: 0.6786 - acc: 0.5695 - val_loss: 0.6760 - val_acc: 0.6270\n",
      "Epoch 5/50\n",
      "100/100 [==============================] - 44s 434ms/step - loss: 0.6738 - acc: 0.6085 - val_loss: 0.6723 - val_acc: 0.6020\n",
      "Epoch 6/50\n",
      "100/100 [==============================] - 43s 429ms/step - loss: 0.6708 - acc: 0.6015 - val_loss: 0.6690 - val_acc: 0.6010\n",
      "Epoch 7/50\n",
      "100/100 [==============================] - 43s 425ms/step - loss: 0.6625 - acc: 0.6210 - val_loss: 0.6605 - val_acc: 0.6280\n",
      "Epoch 8/50\n",
      "100/100 [==============================] - 43s 428ms/step - loss: 0.6565 - acc: 0.6155 - val_loss: 0.6611 - val_acc: 0.6190\n",
      "Epoch 9/50\n",
      "100/100 [==============================] - 35s 345ms/step - loss: 0.6566 - acc: 0.6235 - val_loss: 0.6585 - val_acc: 0.6000\n",
      "Epoch 10/50\n",
      "100/100 [==============================] - 39s 395ms/step - loss: 0.6519 - acc: 0.6225 - val_loss: 0.6591 - val_acc: 0.5980\n",
      "Epoch 11/50\n",
      "100/100 [==============================] - 49s 486ms/step - loss: 0.6471 - acc: 0.6135 - val_loss: 0.6367 - val_acc: 0.6530\n",
      "Epoch 12/50\n",
      "100/100 [==============================] - 49s 487ms/step - loss: 0.6370 - acc: 0.6545 - val_loss: 0.6530 - val_acc: 0.6160\n",
      "Epoch 13/50\n",
      "100/100 [==============================] - 49s 492ms/step - loss: 0.6367 - acc: 0.6585 - val_loss: 0.6505 - val_acc: 0.6210\n",
      "Epoch 14/50\n",
      "100/100 [==============================] - 49s 489ms/step - loss: 0.6380 - acc: 0.6285 - val_loss: 0.6376 - val_acc: 0.6250\n",
      "Epoch 15/50\n",
      "100/100 [==============================] - 49s 489ms/step - loss: 0.6333 - acc: 0.6415 - val_loss: 0.6316 - val_acc: 0.6370\n",
      "Epoch 16/50\n",
      "100/100 [==============================] - 49s 490ms/step - loss: 0.6275 - acc: 0.6575 - val_loss: 0.6443 - val_acc: 0.6270\n",
      "Epoch 17/50\n",
      "100/100 [==============================] - 49s 488ms/step - loss: 0.6290 - acc: 0.6605 - val_loss: 0.6296 - val_acc: 0.6420\n",
      "Epoch 18/50\n",
      "100/100 [==============================] - 49s 489ms/step - loss: 0.6196 - acc: 0.6630 - val_loss: 0.6223 - val_acc: 0.6570\n",
      "Epoch 19/50\n",
      "100/100 [==============================] - 49s 487ms/step - loss: 0.6189 - acc: 0.6645 - val_loss: 0.6394 - val_acc: 0.6370\n",
      "Epoch 20/50\n",
      "100/100 [==============================] - 49s 491ms/step - loss: 0.6112 - acc: 0.6725 - val_loss: 0.6250 - val_acc: 0.6480\n",
      "Epoch 21/50\n",
      "100/100 [==============================] - 50s 496ms/step - loss: 0.6110 - acc: 0.6745 - val_loss: 0.6236 - val_acc: 0.6550\n",
      "Epoch 22/50\n",
      "100/100 [==============================] - 51s 511ms/step - loss: 0.6097 - acc: 0.6645 - val_loss: 0.6120 - val_acc: 0.6600\n",
      "Epoch 23/50\n",
      "100/100 [==============================] - 49s 495ms/step - loss: 0.6115 - acc: 0.6805 - val_loss: 0.6042 - val_acc: 0.6770\n",
      "Epoch 24/50\n",
      "100/100 [==============================] - 51s 506ms/step - loss: 0.6004 - acc: 0.6825 - val_loss: 0.6197 - val_acc: 0.6480\n",
      "Epoch 25/50\n",
      "100/100 [==============================] - 50s 499ms/step - loss: 0.6112 - acc: 0.6650 - val_loss: 0.6223 - val_acc: 0.6480\n",
      "Epoch 26/50\n",
      "100/100 [==============================] - 49s 493ms/step - loss: 0.6024 - acc: 0.6760 - val_loss: 0.6006 - val_acc: 0.6680\n",
      "Epoch 27/50\n",
      "100/100 [==============================] - 49s 490ms/step - loss: 0.5885 - acc: 0.6995 - val_loss: 0.6011 - val_acc: 0.6720\n",
      "Epoch 28/50\n",
      "100/100 [==============================] - 51s 507ms/step - loss: 0.5945 - acc: 0.6775 - val_loss: 0.5934 - val_acc: 0.6570\n",
      "Epoch 29/50\n",
      "100/100 [==============================] - 53s 530ms/step - loss: 0.5815 - acc: 0.7065 - val_loss: 0.6029 - val_acc: 0.6730\n",
      "Epoch 30/50\n",
      "100/100 [==============================] - 48s 485ms/step - loss: 0.5756 - acc: 0.6975 - val_loss: 0.5927 - val_acc: 0.6620\n",
      "Epoch 31/50\n",
      "100/100 [==============================] - 49s 490ms/step - loss: 0.5763 - acc: 0.7185 - val_loss: 0.5944 - val_acc: 0.6600\n",
      "Epoch 32/50\n",
      "100/100 [==============================] - 49s 486ms/step - loss: 0.5808 - acc: 0.6990 - val_loss: 0.5963 - val_acc: 0.6700\n",
      "Epoch 33/50\n",
      "100/100 [==============================] - 49s 490ms/step - loss: 0.5594 - acc: 0.7290 - val_loss: 0.5705 - val_acc: 0.6940\n",
      "Epoch 34/50\n",
      "100/100 [==============================] - 50s 499ms/step - loss: 0.5739 - acc: 0.7040 - val_loss: 0.5902 - val_acc: 0.6800\n",
      "Epoch 35/50\n",
      "100/100 [==============================] - 51s 512ms/step - loss: 0.5743 - acc: 0.6960 - val_loss: 0.5926 - val_acc: 0.6830\n",
      "Epoch 36/50\n",
      "100/100 [==============================] - 51s 511ms/step - loss: 0.5674 - acc: 0.7050 - val_loss: 0.5722 - val_acc: 0.6930\n",
      "Epoch 37/50\n",
      "100/100 [==============================] - 51s 507ms/step - loss: 0.5508 - acc: 0.7260 - val_loss: 0.5775 - val_acc: 0.6890\n",
      "Epoch 38/50\n",
      "100/100 [==============================] - 51s 511ms/step - loss: 0.5576 - acc: 0.7160 - val_loss: 0.6413 - val_acc: 0.6310\n",
      "Epoch 39/50\n",
      "100/100 [==============================] - 53s 528ms/step - loss: 0.5507 - acc: 0.7360 - val_loss: 0.5703 - val_acc: 0.7050\n",
      "Epoch 40/50\n",
      "100/100 [==============================] - 50s 501ms/step - loss: 0.5558 - acc: 0.7175 - val_loss: 0.5736 - val_acc: 0.6860\n",
      "Epoch 41/50\n",
      "100/100 [==============================] - 49s 486ms/step - loss: 0.5450 - acc: 0.7290 - val_loss: 0.5703 - val_acc: 0.7090\n",
      "Epoch 42/50\n",
      "100/100 [==============================] - 49s 488ms/step - loss: 0.5388 - acc: 0.7195 - val_loss: 0.5731 - val_acc: 0.6920\n",
      "Epoch 43/50\n",
      "100/100 [==============================] - 51s 514ms/step - loss: 0.5307 - acc: 0.7365 - val_loss: 0.5559 - val_acc: 0.7130\n",
      "Epoch 44/50\n",
      "100/100 [==============================] - 54s 540ms/step - loss: 0.5381 - acc: 0.7430 - val_loss: 0.5562 - val_acc: 0.7090\n",
      "Epoch 45/50\n",
      "100/100 [==============================] - 52s 521ms/step - loss: 0.5404 - acc: 0.7210 - val_loss: 0.5646 - val_acc: 0.7030\n",
      "Epoch 46/50\n",
      "100/100 [==============================] - 52s 519ms/step - loss: 0.5282 - acc: 0.7350 - val_loss: 0.5416 - val_acc: 0.7260\n",
      "Epoch 47/50\n",
      "100/100 [==============================] - 50s 501ms/step - loss: 0.5301 - acc: 0.7375 - val_loss: 0.5533 - val_acc: 0.7240\n",
      "Epoch 48/50\n",
      "100/100 [==============================] - 50s 505ms/step - loss: 0.5315 - acc: 0.7280 - val_loss: 0.5395 - val_acc: 0.7350\n",
      "Epoch 49/50\n",
      "100/100 [==============================] - 49s 493ms/step - loss: 0.5232 - acc: 0.7480 - val_loss: 0.5362 - val_acc: 0.7230\n",
      "Epoch 50/50\n",
      "100/100 [==============================] - 51s 505ms/step - loss: 0.5187 - acc: 0.7420 - val_loss: 0.5453 - val_acc: 0.7200\n"
     ]
    }
   ],
   "source": [
    "history = model_cnn.fit_generator(train_generator, steps_per_epoch = 100, epochs = 50, validation_data = validation_generator, validation_steps = 50)"
   ]
  },
  {
   "cell_type": "markdown",
   "id": "functioning-current",
   "metadata": {},
   "source": [
    "## Performance Evaluation"
   ]
  },
  {
   "cell_type": "code",
   "execution_count": 11,
   "id": "joint-print",
   "metadata": {},
   "outputs": [
    {
     "data": {
      "image/png": "[encoded data removed]",
      "text/plain": [
       "<Figure size 576x360 with 1 Axes>"
      ]
     },
     "metadata": {
      "needs_background": "light"
     },
     "output_type": "display_data"
    }
   ],
   "source": [
    "pd.DataFrame(history.history).plot(figsize = (8, 5))\n",
    "plt.grid(True)\n",
    "plt.gca().set_ylim(0,1)\n",
    "plt.show()"
   ]
  },
  {
   "cell_type": "markdown",
   "id": "unavailable-vertical",
   "metadata": {},
   "source": [
    "* The accuracy is upto 0.7480."
   ]
  },
  {
   "cell_type": "code",
   "execution_count": 12,
   "id": "selective-zimbabwe",
   "metadata": {},
   "outputs": [],
   "source": [
    "model_cnn.save('model_cnn.h5')\n",
    "from tensorflow.keras import backend\n",
    "backend.clear_session()"
   ]
  },
  {
   "cell_type": "markdown",
   "id": "dutch-duration",
   "metadata": {},
   "source": [
    "## Data Augmentation"
   ]
  },
  {
   "cell_type": "markdown",
   "id": "powered-caution",
   "metadata": {},
   "source": [
    "### Preprocessing"
   ]
  },
  {
   "cell_type": "code",
   "execution_count": 13,
   "id": "verified-debut",
   "metadata": {},
   "outputs": [
    {
     "name": "stdout",
     "output_type": "stream",
     "text": [
      "Found 6000 images belonging to 2 classes.\n",
      "Found 2000 images belonging to 2 classes.\n"
     ]
    }
   ],
   "source": [
    "train_data_aug = idg(rescale = 1./255, rotation_range = 40, width_shift_range = 0.2, height_shift_range = 0.2, shear_range = 0.2, zoom_range = 0.2, horizontal_flip = True)\n",
    "test_data_aug = idg(rescale = 1./255, rotation_range = 40, width_shift_range = 0.2, height_shift_range = 0.2, shear_range = 0.2, zoom_range = 0.2, horizontal_flip = True)\n",
    "train_gen_aug = train_data_aug.flow_from_directory(train_dir, target_size = (150, 150), batch_size = 32, class_mode = 'binary')\n",
    "valid_gen_aug = test_data_aug.flow_from_directory(validation_dir, target_size = (150, 150), batch_size = 32, class_mode = 'binary')"
   ]
  },
  {
   "cell_type": "markdown",
   "id": "gothic-european",
   "metadata": {},
   "source": [
    "### Model Architectue"
   ]
  },
  {
   "cell_type": "code",
   "execution_count": 14,
   "id": "intermediate-darkness",
   "metadata": {},
   "outputs": [],
   "source": [
    "from tensorflow.keras import layers\n",
    "from tensorflow.keras import models\n",
    "model_cnn_aug = models.Sequential([\n",
    "    layers.Conv2D(32, (3,3), activation = 'relu', input_shape = (150, 150, 3)),\n",
    "    layers.MaxPooling2D((2, 2)),\n",
    "    layers.Conv2D(64, (3,3), activation = 'relu'),\n",
    "    layers.MaxPooling2D((2, 2)),\n",
    "    layers.Conv2D(128, (3,3), activation = 'relu'),\n",
    "    layers.MaxPooling2D((2, 2)),\n",
    "    layers.Conv2D(128, (3,3), activation = 'relu'),\n",
    "    layers.MaxPooling2D((2, 2)),\n",
    "    layers.Flatten(),\n",
    "    layers.Dropout(0.5),\n",
    "    layers.Dense(512, activation = 'relu'),\n",
    "    layers.Dense(1, activation = 'sigmoid')\n",
    "])\n",
    "# The dropout layer drops given percentage of neurons to avoid over-fitting."
   ]
  },
  {
   "cell_type": "code",
   "execution_count": 15,
   "id": "southeast-beijing",
   "metadata": {},
   "outputs": [
    {
     "name": "stdout",
     "output_type": "stream",
     "text": [
      "Model: \"sequential\"\n",
      "_________________________________________________________________\n",
      "Layer (type)                 Output Shape              Param #   \n",
      "=================================================================\n",
      "conv2d (Conv2D)              (None, 148, 148, 32)      896       \n",
      "_________________________________________________________________\n",
      "max_pooling2d (MaxPooling2D) (None, 74, 74, 32)        0         \n",
      "_________________________________________________________________\n",
      "conv2d_1 (Conv2D)            (None, 72, 72, 64)        18496     \n",
      "_________________________________________________________________\n",
      "max_pooling2d_1 (MaxPooling2 (None, 36, 36, 64)        0         \n",
      "_________________________________________________________________\n",
      "conv2d_2 (Conv2D)            (None, 34, 34, 128)       73856     \n",
      "_________________________________________________________________\n",
      "max_pooling2d_2 (MaxPooling2 (None, 17, 17, 128)       0         \n",
      "_________________________________________________________________\n",
      "conv2d_3 (Conv2D)            (None, 15, 15, 128)       147584    \n",
      "_________________________________________________________________\n",
      "max_pooling2d_3 (MaxPooling2 (None, 7, 7, 128)         0         \n",
      "_________________________________________________________________\n",
      "flatten (Flatten)            (None, 6272)              0         \n",
      "_________________________________________________________________\n",
      "dropout (Dropout)            (None, 6272)              0         \n",
      "_________________________________________________________________\n",
      "dense (Dense)                (None, 512)               3211776   \n",
      "_________________________________________________________________\n",
      "dense_1 (Dense)              (None, 1)                 513       \n",
      "=================================================================\n",
      "Total params: 3,453,121\n",
      "Trainable params: 3,453,121\n",
      "Non-trainable params: 0\n",
      "_________________________________________________________________\n"
     ]
    }
   ],
   "source": [
    "model_cnn_aug.summary()"
   ]
  },
  {
   "cell_type": "code",
   "execution_count": 16,
   "id": "yellow-restriction",
   "metadata": {},
   "outputs": [],
   "source": [
    "from tensorflow.keras import optimizers\n",
    "model_cnn_aug.compile(loss = 'binary_crossentropy', optimizer = optimizers.RMSprop(learning_rate = 0.0001), metrics = ['acc'])"
   ]
  },
  {
   "cell_type": "code",
   "execution_count": 17,
   "id": "subsequent-fluid",
   "metadata": {},
   "outputs": [
    {
     "name": "stderr",
     "output_type": "stream",
     "text": [
      "/home/shreyashkharat/.local/lib/python3.9/site-packages/keras/engine/training.py:1972: UserWarning: `Model.fit_generator` is deprecated and will be removed in a future version. Please use `Model.fit`, which supports generators.\n",
      "  warnings.warn('`Model.fit_generator` is deprecated and '\n"
     ]
    },
    {
     "name": "stdout",
     "output_type": "stream",
     "text": [
      "Epoch 1/60\n",
      "100/100 [==============================] - 97s 954ms/step - loss: 0.6934 - acc: 0.5203 - val_loss: 0.6845 - val_acc: 0.5250\n",
      "Epoch 2/60\n",
      "100/100 [==============================] - 92s 921ms/step - loss: 0.6770 - acc: 0.5713 - val_loss: 0.6660 - val_acc: 0.5975\n",
      "Epoch 3/60\n",
      "100/100 [==============================] - 97s 973ms/step - loss: 0.6629 - acc: 0.5822 - val_loss: 0.6884 - val_acc: 0.5344\n",
      "Epoch 4/60\n",
      "100/100 [==============================] - 92s 923ms/step - loss: 0.6564 - acc: 0.6053 - val_loss: 0.6486 - val_acc: 0.6112\n",
      "Epoch 5/60\n",
      "100/100 [==============================] - 92s 921ms/step - loss: 0.6508 - acc: 0.6103 - val_loss: 0.6298 - val_acc: 0.6556\n",
      "Epoch 6/60\n",
      "100/100 [==============================] - 92s 919ms/step - loss: 0.6394 - acc: 0.6231 - val_loss: 0.6253 - val_acc: 0.6625\n",
      "Epoch 7/60\n",
      "100/100 [==============================] - 92s 923ms/step - loss: 0.6209 - acc: 0.6500 - val_loss: 0.6076 - val_acc: 0.6712\n",
      "Epoch 8/60\n",
      "100/100 [==============================] - 93s 924ms/step - loss: 0.6160 - acc: 0.6447 - val_loss: 0.6112 - val_acc: 0.6587\n",
      "Epoch 9/60\n",
      "100/100 [==============================] - 92s 920ms/step - loss: 0.6073 - acc: 0.6631 - val_loss: 0.6742 - val_acc: 0.6175\n",
      "Epoch 10/60\n",
      "100/100 [==============================] - 92s 920ms/step - loss: 0.5989 - acc: 0.6681 - val_loss: 0.6013 - val_acc: 0.6769\n",
      "Epoch 11/60\n",
      "100/100 [==============================] - 92s 921ms/step - loss: 0.5932 - acc: 0.6875 - val_loss: 0.6063 - val_acc: 0.6781\n",
      "Epoch 12/60\n",
      "100/100 [==============================] - 92s 915ms/step - loss: 0.5968 - acc: 0.6743 - val_loss: 0.6266 - val_acc: 0.6506\n",
      "Epoch 13/60\n",
      "100/100 [==============================] - 92s 919ms/step - loss: 0.5852 - acc: 0.6935 - val_loss: 0.5846 - val_acc: 0.6900\n",
      "Epoch 14/60\n",
      "100/100 [==============================] - 92s 918ms/step - loss: 0.5852 - acc: 0.6866 - val_loss: 0.5855 - val_acc: 0.6894\n",
      "Epoch 15/60\n",
      "100/100 [==============================] - 92s 923ms/step - loss: 0.5848 - acc: 0.6850 - val_loss: 0.6089 - val_acc: 0.6769\n",
      "Epoch 16/60\n",
      "100/100 [==============================] - 92s 918ms/step - loss: 0.5698 - acc: 0.7060 - val_loss: 0.5693 - val_acc: 0.6969\n",
      "Epoch 17/60\n",
      "100/100 [==============================] - 92s 922ms/step - loss: 0.5771 - acc: 0.6916 - val_loss: 0.5628 - val_acc: 0.6988\n",
      "Epoch 18/60\n",
      "100/100 [==============================] - 92s 922ms/step - loss: 0.5675 - acc: 0.6969 - val_loss: 0.5682 - val_acc: 0.7175\n",
      "Epoch 19/60\n",
      "100/100 [==============================] - 92s 922ms/step - loss: 0.5586 - acc: 0.7147 - val_loss: 0.5652 - val_acc: 0.7169\n",
      "Epoch 20/60\n",
      "100/100 [==============================] - 93s 927ms/step - loss: 0.5654 - acc: 0.7103 - val_loss: 0.5550 - val_acc: 0.7119\n",
      "Epoch 21/60\n",
      "100/100 [==============================] - 93s 925ms/step - loss: 0.5582 - acc: 0.7038 - val_loss: 0.5722 - val_acc: 0.6969\n",
      "Epoch 22/60\n",
      "100/100 [==============================] - 92s 920ms/step - loss: 0.5585 - acc: 0.7073 - val_loss: 0.5510 - val_acc: 0.7325\n",
      "Epoch 23/60\n",
      "100/100 [==============================] - 92s 920ms/step - loss: 0.5481 - acc: 0.7173 - val_loss: 0.5402 - val_acc: 0.7344\n",
      "Epoch 24/60\n",
      "100/100 [==============================] - 92s 922ms/step - loss: 0.5410 - acc: 0.7249 - val_loss: 0.5673 - val_acc: 0.7081\n",
      "Epoch 25/60\n",
      "100/100 [==============================] - 92s 921ms/step - loss: 0.5365 - acc: 0.7300 - val_loss: 0.5846 - val_acc: 0.7081\n",
      "Epoch 26/60\n",
      "100/100 [==============================] - 92s 921ms/step - loss: 0.5304 - acc: 0.7327 - val_loss: 0.5347 - val_acc: 0.7350\n",
      "Epoch 27/60\n",
      "100/100 [==============================] - 92s 922ms/step - loss: 0.5265 - acc: 0.7371 - val_loss: 0.5426 - val_acc: 0.7287\n",
      "Epoch 28/60\n",
      "100/100 [==============================] - 92s 923ms/step - loss: 0.5291 - acc: 0.7249 - val_loss: 0.5587 - val_acc: 0.7294\n",
      "Epoch 29/60\n",
      "100/100 [==============================] - 93s 925ms/step - loss: 0.5306 - acc: 0.7237 - val_loss: 0.5291 - val_acc: 0.7344\n",
      "Epoch 30/60\n",
      "100/100 [==============================] - 92s 923ms/step - loss: 0.5173 - acc: 0.7387 - val_loss: 0.5197 - val_acc: 0.7362\n",
      "Epoch 31/60\n",
      "100/100 [==============================] - 92s 922ms/step - loss: 0.5176 - acc: 0.7378 - val_loss: 0.5622 - val_acc: 0.6994\n",
      "Epoch 32/60\n",
      "100/100 [==============================] - 92s 924ms/step - loss: 0.5127 - acc: 0.7506 - val_loss: 0.5449 - val_acc: 0.7406\n",
      "Epoch 33/60\n",
      "100/100 [==============================] - 92s 924ms/step - loss: 0.5002 - acc: 0.7503 - val_loss: 0.5408 - val_acc: 0.7456\n",
      "Epoch 34/60\n",
      "100/100 [==============================] - 92s 922ms/step - loss: 0.4939 - acc: 0.7475 - val_loss: 0.5875 - val_acc: 0.7169\n",
      "Epoch 35/60\n",
      "100/100 [==============================] - 102s 1s/step - loss: 0.4995 - acc: 0.7591 - val_loss: 0.5241 - val_acc: 0.7412\n",
      "Epoch 36/60\n",
      "100/100 [==============================] - 99s 987ms/step - loss: 0.5005 - acc: 0.7491 - val_loss: 0.5047 - val_acc: 0.7506\n",
      "Epoch 37/60\n",
      "100/100 [==============================] - 98s 980ms/step - loss: 0.5081 - acc: 0.7450 - val_loss: 0.5225 - val_acc: 0.7425\n",
      "Epoch 38/60\n",
      "100/100 [==============================] - 98s 980ms/step - loss: 0.5005 - acc: 0.7604 - val_loss: 0.4961 - val_acc: 0.7669\n",
      "Epoch 39/60\n",
      "100/100 [==============================] - 98s 977ms/step - loss: 0.5016 - acc: 0.7585 - val_loss: 0.4997 - val_acc: 0.7644\n",
      "Epoch 40/60\n",
      "100/100 [==============================] - 98s 978ms/step - loss: 0.4992 - acc: 0.7506 - val_loss: 0.5044 - val_acc: 0.7575\n",
      "Epoch 41/60\n",
      "100/100 [==============================] - 98s 980ms/step - loss: 0.5053 - acc: 0.7535 - val_loss: 0.5471 - val_acc: 0.7175\n",
      "Epoch 42/60\n",
      "100/100 [==============================] - 97s 969ms/step - loss: 0.4852 - acc: 0.7641 - val_loss: 0.4984 - val_acc: 0.7638\n",
      "Epoch 43/60\n",
      "100/100 [==============================] - 92s 921ms/step - loss: 0.4835 - acc: 0.7714 - val_loss: 0.5622 - val_acc: 0.7163\n",
      "Epoch 44/60\n",
      "100/100 [==============================] - 96s 955ms/step - loss: 0.4749 - acc: 0.7744 - val_loss: 0.6244 - val_acc: 0.6900\n",
      "Epoch 45/60\n",
      "100/100 [==============================] - 93s 927ms/step - loss: 0.4841 - acc: 0.7704 - val_loss: 0.4851 - val_acc: 0.7725\n",
      "Epoch 46/60\n",
      "100/100 [==============================] - 93s 927ms/step - loss: 0.4769 - acc: 0.7741 - val_loss: 0.4878 - val_acc: 0.7706\n",
      "Epoch 47/60\n",
      "100/100 [==============================] - 93s 928ms/step - loss: 0.4742 - acc: 0.7688 - val_loss: 0.6060 - val_acc: 0.6875\n",
      "Epoch 48/60\n",
      "100/100 [==============================] - 93s 926ms/step - loss: 0.4820 - acc: 0.7666 - val_loss: 0.4985 - val_acc: 0.7631\n",
      "Epoch 49/60\n",
      "100/100 [==============================] - 92s 922ms/step - loss: 0.4613 - acc: 0.7802 - val_loss: 0.4949 - val_acc: 0.7775\n",
      "Epoch 50/60\n",
      "100/100 [==============================] - 96s 957ms/step - loss: 0.4737 - acc: 0.7704 - val_loss: 0.4962 - val_acc: 0.7631\n",
      "Epoch 51/60\n",
      "100/100 [==============================] - 95s 946ms/step - loss: 0.4698 - acc: 0.7811 - val_loss: 0.4921 - val_acc: 0.7625\n",
      "Epoch 52/60\n",
      "100/100 [==============================] - 94s 943ms/step - loss: 0.4652 - acc: 0.7717 - val_loss: 0.5008 - val_acc: 0.7600\n",
      "Epoch 53/60\n",
      "100/100 [==============================] - 92s 923ms/step - loss: 0.4752 - acc: 0.7638 - val_loss: 0.4954 - val_acc: 0.7656\n",
      "Epoch 54/60\n",
      "100/100 [==============================] - 94s 943ms/step - loss: 0.4714 - acc: 0.7766 - val_loss: 0.5025 - val_acc: 0.7387\n",
      "Epoch 55/60\n",
      "100/100 [==============================] - 94s 935ms/step - loss: 0.4651 - acc: 0.7736 - val_loss: 0.4644 - val_acc: 0.7831\n",
      "Epoch 56/60\n",
      "100/100 [==============================] - 92s 923ms/step - loss: 0.4556 - acc: 0.7827 - val_loss: 0.4790 - val_acc: 0.7750\n",
      "Epoch 57/60\n",
      "100/100 [==============================] - 93s 934ms/step - loss: 0.4586 - acc: 0.7754 - val_loss: 0.4789 - val_acc: 0.7837\n",
      "Epoch 58/60\n",
      "100/100 [==============================] - 99s 986ms/step - loss: 0.4638 - acc: 0.7731 - val_loss: 0.4767 - val_acc: 0.7812\n",
      "Epoch 59/60\n",
      "100/100 [==============================] - 93s 932ms/step - loss: 0.4517 - acc: 0.7845 - val_loss: 0.4611 - val_acc: 0.7906\n",
      "Epoch 60/60\n",
      "100/100 [==============================] - 93s 928ms/step - loss: 0.4575 - acc: 0.7834 - val_loss: 0.4624 - val_acc: 0.7862\n"
     ]
    }
   ],
   "source": [
    "history_aug = model_cnn_aug.fit_generator(train_gen_aug, steps_per_epoch = 100, epochs = 60, validation_data = valid_gen_aug, validation_steps = 50)"
   ]
  },
  {
   "cell_type": "code",
   "execution_count": 18,
   "id": "veterinary-fraction",
   "metadata": {},
   "outputs": [
    {
     "data": {
      "image/png": "[encoded data removed]",
      "text/plain": [
       "<Figure size 576x360 with 1 Axes>"
      ]
     },
     "metadata": {
      "needs_background": "light"
     },
     "output_type": "display_data"
    }
   ],
   "source": [
    "pd.DataFrame(history_aug.history).plot(figsize = (8, 5))\n",
    "plt.grid(True)\n",
    "plt.gca().set_ylim(0,1)\n",
    "plt.show()"
   ]
  },
  {
   "cell_type": "code",
   "execution_count": 19,
   "id": "utility-peace",
   "metadata": {},
   "outputs": [],
   "source": [
    "model_cnn_aug.save('model_cnn_aug.h5')\n",
    "from tensorflow.keras import backend\n",
    "backend.clear_session()"
   ]
  },
  {
   "cell_type": "markdown",
   "id": "informational-junior",
   "metadata": {},
   "source": [
    "## VGG16"
   ]
  },
  {
   "cell_type": "code",
   "execution_count": 20,
   "id": "third-operator",
   "metadata": {},
   "outputs": [
    {
     "name": "stdout",
     "output_type": "stream",
     "text": [
      "Found 6000 images belonging to 2 classes.\n",
      "Found 2000 images belonging to 2 classes.\n"
     ]
    }
   ],
   "source": [
    "from tensorflow.keras.preprocessing.image import ImageDataGenerator as idg\n",
    "train_data_vgg = idg(rescale = 1./255, rotation_range = 40, width_shift_range = 0.2, height_shift_range = 0.2, shear_range = 0.2, zoom_range = 0.2, horizontal_flip = True)\n",
    "test_data_vgg = idg(rescale = 1./255)\n",
    "train_gen_vgg = train_data_vgg.flow_from_directory(train_dir, target_size = (150, 150), batch_size = 20, class_mode = 'binary')\n",
    "validation_gen_vgg = test_data_vgg.flow_from_directory(validation_dir, target_size = (150, 150), batch_size = 20, class_mode = 'binary')"
   ]
  },
  {
   "cell_type": "code",
   "execution_count": 21,
   "id": "rocky-asian",
   "metadata": {},
   "outputs": [],
   "source": [
    "from tensorflow.keras.applications import VGG16\n",
    "vvg_convo = VGG16(weights = 'imagenet', include_top = False, input_shape = (150, 150, 3))"
   ]
  },
  {
   "cell_type": "code",
   "execution_count": 22,
   "id": "foreign-arnold",
   "metadata": {},
   "outputs": [],
   "source": [
    "from tensorflow.keras import models, layers\n",
    "model_vgg = models.Sequential([\n",
    "    vvg_convo,\n",
    "    layers.Flatten(),\n",
    "    layers.Dense(256, activation = 'relu'),\n",
    "    layers.Dense(128, activation = 'relu'),\n",
    "    layers.Dense(1, activation = 'sigmoid')\n",
    "])"
   ]
  },
  {
   "cell_type": "code",
   "execution_count": 23,
   "id": "noted-throw",
   "metadata": {},
   "outputs": [],
   "source": [
    "from tensorflow.keras import optimizers\n",
    "model_vgg.compile(loss = 'binary_crossentropy', optimizer = optimizers.RMSprop(learning_rate = 0.0002), metrics = ['acc'])"
   ]
  },
  {
   "cell_type": "code",
   "execution_count": 24,
   "id": "neither-rainbow",
   "metadata": {},
   "outputs": [],
   "source": [
    "checkpoints = keras.callbacks.ModelCheckpoint('model_vgg.h5')"
   ]
  },
  {
   "cell_type": "code",
   "execution_count": null,
   "id": "conditional-familiar",
   "metadata": {},
   "outputs": [],
   "source": [
    "history_vgg = model_vgg.fit_generator(train_gen_vgg, steps_per_epoch = 100, epochs = 40, validation_data = validation_gen_vgg, validation_steps = 50, callbacks = [checkpoints])"
   ]
  },
  {
   "cell_type": "code",
   "execution_count": null,
   "id": "monthly-klein",
   "metadata": {},
   "outputs": [],
   "source": [
    "pd.DataFrame(history_vgg.history).plot(figsize = (8, 5))\n",
    "plt.grid(True)\n",
    "plt.gca().set_ylim(0, 1)\n",
    "plt.show()"
   ]
  },
  {
   "cell_type": "markdown",
   "id": "three-enlargement",
   "metadata": {},
   "source": [
    "* The above vgg model is not trianed due to high computational time (takes upto 8-10 mins per epoch).\n",
    "* So, the augmented CNN models gives best accuracy on validation set upto 0.7906."
   ]
  }
 ],
 "metadata": {
  "kernelspec": {
   "display_name": "Python 3",
   "language": "python",
   "name": "python3"
  },
  "language_info": {
   "codemirror_mode": {
    "name": "ipython",
    "version": 3
   },
   "file_extension": ".py",
   "mimetype": "text/x-python",
   "name": "python",
   "nbconvert_exporter": "python",
   "pygments_lexer": "ipython3",
   "version": "3.9.5"
  }
 },
 "nbformat": 4,
 "nbformat_minor": 5
}
